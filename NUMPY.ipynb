{
 "cells": [
  {
   "cell_type": "markdown",
   "id": "dbcb0626-6814-4cb6-9fa5-37d3b9eb026d",
   "metadata": {},
   "source": [
    "\n",
    "**INSTALLATION**"
   ]
  },
  {
   "cell_type": "code",
   "execution_count": 1,
   "id": "a468a860-aad3-47f6-83fe-7b809187aabd",
   "metadata": {},
   "outputs": [],
   "source": [
    "## importing numpy\n",
    "import numpy as np"
   ]
  },
  {
   "cell_type": "code",
   "execution_count": 2,
   "id": "0893db61-4c13-4c8c-b9de-cefef23c6b29",
   "metadata": {},
   "outputs": [
    {
     "name": "stdout",
     "output_type": "stream",
     "text": [
      "1.26.4\n"
     ]
    }
   ],
   "source": [
    "## checking version\n",
    "print(np.__version__)\n"
   ]
  },
  {
   "cell_type": "markdown",
   "id": "5f9d2be0-967c-44bb-840f-fd0967b5a22f",
   "metadata": {},
   "source": [
    "**CREATING ARRAY**"
   ]
  },
  {
   "cell_type": "code",
   "execution_count": 3,
   "id": "3b30b13e-9030-459b-8424-87b5e7a7bba3",
   "metadata": {},
   "outputs": [
    {
     "name": "stdout",
     "output_type": "stream",
     "text": [
      "[1 2 3 4 5 6]\n",
      "<class 'numpy.ndarray'>\n"
     ]
    }
   ],
   "source": [
    "## creating numpy nd array\n",
    "## using list\n",
    "arr=np.array([1,2,3,4,5,6])\n",
    "print(arr)\n",
    "print(type(arr))"
   ]
  },
  {
   "cell_type": "code",
   "execution_count": 4,
   "id": "d9d43db5-b424-40b2-a555-75bea871421f",
   "metadata": {},
   "outputs": [
    {
     "name": "stdout",
     "output_type": "stream",
     "text": [
      "[1 2 3 4 5 6]\n",
      "<class 'numpy.ndarray'>\n"
     ]
    }
   ],
   "source": [
    "## using tuple\n",
    "arr=np.array((1,2,3,4,5,6))\n",
    "print(arr)\n",
    "print(type(arr))"
   ]
  },
  {
   "cell_type": "markdown",
   "id": "32a118e8-6660-4d17-a087-eed015e1271b",
   "metadata": {},
   "source": [
    "**DIMENSION**\n"
   ]
  },
  {
   "cell_type": "code",
   "execution_count": 5,
   "id": "3001d111-c8ae-4e0c-b966-9c1b3ae21fd2",
   "metadata": {},
   "outputs": [
    {
     "name": "stdout",
     "output_type": "stream",
     "text": [
      "10\n",
      "number of dimensions is 0\n",
      "[10 20 30 40 50]\n",
      "<class 'numpy.ndarray'>\n",
      "number of dimensions is 1\n"
     ]
    }
   ],
   "source": [
    "## 0D array\n",
    "arr=np.array(10)\n",
    "print(arr)\n",
    "print(\"number of dimensions is\",arr.ndim)\n",
    "## 1d array\n",
    "arr=np.array([10,20,30,40,50])\n",
    "print(arr)\n",
    "print(type(arr))\n",
    "print(\"number of dimensions is\",arr.ndim)\n",
    "\n"
   ]
  },
  {
   "cell_type": "code",
   "execution_count": 6,
   "id": "c55402ed-555a-4c46-9dc4-3f9e648487c5",
   "metadata": {},
   "outputs": [
    {
     "name": "stdout",
     "output_type": "stream",
     "text": [
      "[[1 2]\n",
      " [3 4]]\n",
      "number of dimensions is 2\n"
     ]
    }
   ],
   "source": [
    "## 2d array\n",
    "arr=np.array([[1,2],[3,4]])\n",
    "print(arr)\n",
    "print(\"number of dimensions is\",arr.ndim)"
   ]
  },
  {
   "cell_type": "code",
   "execution_count": 7,
   "id": "abf0e32f-df67-48ca-afad-1253c63b5b32",
   "metadata": {},
   "outputs": [
    {
     "name": "stdout",
     "output_type": "stream",
     "text": [
      "[[[1 2]\n",
      "  [3 4]\n",
      "  [5 6]]]\n",
      "number of dimensions is 3\n"
     ]
    }
   ],
   "source": [
    "##3d array\n",
    "arr=np.array([[[1,2],[3,4],[5,6]]])\n",
    "print(arr)\n",
    "print(\"number of dimensions is\",arr.ndim)"
   ]
  },
  {
   "cell_type": "markdown",
   "id": "7eeddf1e-90b4-4073-9175-bf9d530e4e78",
   "metadata": {},
   "source": [
    "**ACCESS ARRAY ELEMENTS**"
   ]
  },
  {
   "cell_type": "code",
   "execution_count": 8,
   "id": "64d596e6-d185-4ae3-83d9-76d2c8b67cc9",
   "metadata": {},
   "outputs": [
    {
     "name": "stdout",
     "output_type": "stream",
     "text": [
      "2\n"
     ]
    }
   ],
   "source": [
    "arr=np.array([[1,2],[3,4]])\n",
    "print(arr[0,1])"
   ]
  },
  {
   "cell_type": "code",
   "execution_count": 9,
   "id": "879f078a-270e-4625-b22c-f8d3cac918d5",
   "metadata": {},
   "outputs": [
    {
     "name": "stdout",
     "output_type": "stream",
     "text": [
      "20\n"
     ]
    }
   ],
   "source": [
    "arr=np.array([10,20,30,40,50])\n",
    "print(arr[1])"
   ]
  },
  {
   "cell_type": "code",
   "execution_count": 10,
   "id": "34da0191-af51-4300-b710-6157ff1e828e",
   "metadata": {},
   "outputs": [
    {
     "name": "stdout",
     "output_type": "stream",
     "text": [
      "3\n"
     ]
    }
   ],
   "source": [
    "arr=np.array([[[1,2],[3,4],[5,6]]])\n",
    "print(arr[0,1,0])"
   ]
  },
  {
   "cell_type": "code",
   "execution_count": 11,
   "id": "aa4c787f-c46c-4a2f-9dff-ce5aa92c74a7",
   "metadata": {},
   "outputs": [
    {
     "name": "stdout",
     "output_type": "stream",
     "text": [
      "10\n"
     ]
    }
   ],
   "source": [
    "## negative indexing\n",
    "arr=np.array([[1,2,3,4,5],[6,7,8,9,10]])\n",
    "print(arr[1,-1])"
   ]
  },
  {
   "cell_type": "markdown",
   "id": "16c1505d-56d2-4d39-94d0-f3d200afd5f9",
   "metadata": {},
   "source": [
    "**SLICING ARRAY**\n"
   ]
  },
  {
   "cell_type": "code",
   "execution_count": 12,
   "id": "ae8c35f7-234c-4388-a712-d28d816a7849",
   "metadata": {},
   "outputs": [
    {
     "name": "stdout",
     "output_type": "stream",
     "text": [
      "[2 3 4 5]\n"
     ]
    }
   ],
   "source": [
    "arr=np.array([1,2,3,4,5,6,7,8])\n",
    "print(arr[1:5])"
   ]
  },
  {
   "cell_type": "code",
   "execution_count": 13,
   "id": "e4cb3701-2822-4a1b-b0d2-fa8fcd789b82",
   "metadata": {},
   "outputs": [
    {
     "name": "stdout",
     "output_type": "stream",
     "text": [
      "[ 5  6  7  8  9 10 11 12]\n"
     ]
    }
   ],
   "source": [
    "arr=np.array([1,2,3,4,5,6,7,8,9,10,11,12])\n",
    "print(arr[4:])"
   ]
  },
  {
   "cell_type": "code",
   "execution_count": 14,
   "id": "7a6e1f99-78a3-4587-a2de-105919e6c6cb",
   "metadata": {},
   "outputs": [
    {
     "name": "stdout",
     "output_type": "stream",
     "text": [
      "[ 8  9 10 11]\n"
     ]
    }
   ],
   "source": [
    "arr=np.array([1,2,3,4,5,6,7,8,9,10,11,12])\n",
    "print(arr[-5:-1])"
   ]
  },
  {
   "cell_type": "code",
   "execution_count": 15,
   "id": "3e345041-73d6-4e37-87d6-d3b20f59ed1d",
   "metadata": {},
   "outputs": [
    {
     "name": "stdout",
     "output_type": "stream",
     "text": [
      "[2 4 6 8]\n"
     ]
    }
   ],
   "source": [
    "arr=np.array([1,2,3,4,5,6,7,8,9,10,11,12])\n",
    "print(arr[1:8:2])"
   ]
  },
  {
   "cell_type": "code",
   "execution_count": 16,
   "id": "4f0f7ddf-113f-4b1c-934d-921c481bb845",
   "metadata": {},
   "outputs": [
    {
     "name": "stdout",
     "output_type": "stream",
     "text": [
      "[3 4 5 6]\n"
     ]
    }
   ],
   "source": [
    "## 2d array\n",
    "arr=np.array([[1,2,3,4,5,6],[7,8,9,10,11,12]])\n",
    "print(arr[0,2:])"
   ]
  },
  {
   "cell_type": "markdown",
   "id": "94dc0f06-3c92-4568-8222-2f721a034a43",
   "metadata": {},
   "source": [
    "**DATA TYPE**"
   ]
  },
  {
   "cell_type": "code",
   "execution_count": 17,
   "id": "d7fb4e9d-541d-429a-bdf5-0f85c93ef02d",
   "metadata": {},
   "outputs": [
    {
     "name": "stdout",
     "output_type": "stream",
     "text": [
      "int32\n"
     ]
    }
   ],
   "source": [
    "arr=np.array([1,2,3,4,5,6,7,8])\n",
    "print(arr.dtype)"
   ]
  },
  {
   "cell_type": "code",
   "execution_count": 18,
   "id": "aa242245-f054-44b0-8f7b-f95ab51b4f8d",
   "metadata": {},
   "outputs": [
    {
     "name": "stdout",
     "output_type": "stream",
     "text": [
      "<U6\n"
     ]
    }
   ],
   "source": [
    "arr=np.array([\"apple\",\"cherry\"])\n",
    "print(arr.dtype)"
   ]
  },
  {
   "cell_type": "markdown",
   "id": "9aabd17c-cc8a-4ded-adc3-af3bad11271f",
   "metadata": {},
   "source": [
    "**CREATING ARRAY WITH DEFINED DATA TYPE**"
   ]
  },
  {
   "cell_type": "code",
   "execution_count": 19,
   "id": "11127583-9909-4bd2-9cd4-26d5390a6b7e",
   "metadata": {},
   "outputs": [
    {
     "name": "stdout",
     "output_type": "stream",
     "text": [
      "[b'1' b'2' b'3' b'4' b'5']\n",
      "|S1\n"
     ]
    }
   ],
   "source": [
    "## with string\n",
    "arr=np.array([1,2,3,4,5],dtype=\"S\")\n",
    "print(arr)\n",
    "print(arr.dtype)"
   ]
  },
  {
   "cell_type": "code",
   "execution_count": 20,
   "id": "fbbe68d0-49a2-4463-93c6-db1b5f54dd05",
   "metadata": {},
   "outputs": [
    {
     "name": "stdout",
     "output_type": "stream",
     "text": [
      "[1 2 3 4 5]\n",
      "int32\n"
     ]
    }
   ],
   "source": [
    "## with int\n",
    "arr=np.array([1,2,3,4,5],dtype=\"i4\")\n",
    "print(arr)\n",
    "print(arr.dtype)"
   ]
  },
  {
   "cell_type": "markdown",
   "id": "2c705ccd-60d1-47c3-b0f9-73c3446aac76",
   "metadata": {},
   "source": [
    "**DIFFRENCE BETWEEN COPY AND VIEW**\n",
    "* copy is the new array \n",
    "* view is just the view of original array"
   ]
  },
  {
   "cell_type": "code",
   "execution_count": 76,
   "id": "837cccef-e718-4d01-8137-6b373135582c",
   "metadata": {},
   "outputs": [
    {
     "name": "stdout",
     "output_type": "stream",
     "text": [
      "[1 2 3 4 5]\n",
      "[1 2 3 4 5]\n",
      "[10  2  3  4  5]\n"
     ]
    }
   ],
   "source": [
    "## copy\n",
    "arr=np.array([1,2,3,4,5])\n",
    "x=arr.copy()\n",
    "print(arr)\n",
    "print(x)\n",
    "## copy is not affected if make changes in original array\n",
    "arr[0]=10\n",
    "print(arr)"
   ]
  },
  {
   "cell_type": "code",
   "execution_count": 22,
   "id": "4cf67289-6618-453a-8eee-aa5d0230af5d",
   "metadata": {},
   "outputs": [
    {
     "name": "stdout",
     "output_type": "stream",
     "text": [
      "[10  2  3  4  5]\n",
      "[10  2  3  4  5]\n"
     ]
    }
   ],
   "source": [
    "## view\n",
    "arr=np.array([1,2,3,4,5])\n",
    "x=arr.view()\n",
    "arr[0]=10\n",
    "print(arr)\n",
    "print(x)"
   ]
  },
  {
   "cell_type": "code",
   "execution_count": 23,
   "id": "7d0f4d7e-dc50-44b8-8a3e-73f2e80e01b8",
   "metadata": {},
   "outputs": [
    {
     "name": "stdout",
     "output_type": "stream",
     "text": [
      "[10  2  3  4  5]\n",
      "[10  2  3  4  5]\n"
     ]
    }
   ],
   "source": [
    "arr=np.array([1,2,3,4,5])\n",
    "x=arr.view()\n",
    "x[0]=10\n",
    "print(arr)\n",
    "print(x)\n",
    "## original array is affected if changes is made in view"
   ]
  },
  {
   "cell_type": "markdown",
   "id": "d9b3477e-d65f-4bf4-90c6-01fd49487711",
   "metadata": {},
   "source": [
    "**SHAPE OF ARRAY**\n",
    "* no. of elements  in each dimension is called shape of the array"
   ]
  },
  {
   "cell_type": "code",
   "execution_count": 24,
   "id": "52722bc1-411a-45ec-a9d6-68d28c76ef60",
   "metadata": {},
   "outputs": [
    {
     "name": "stdout",
     "output_type": "stream",
     "text": [
      "(2, 2)\n"
     ]
    }
   ],
   "source": [
    "arr=np.array([[1,2],[3,4]])\n",
    "print(arr.shape)"
   ]
  },
  {
   "cell_type": "code",
   "execution_count": 25,
   "id": "f10364af-57e8-4dee-9971-ef8f98fff80c",
   "metadata": {},
   "outputs": [
    {
     "name": "stdout",
     "output_type": "stream",
     "text": [
      "The shape of array is (1, 1, 1, 1, 4)\n"
     ]
    }
   ],
   "source": [
    "arr=np.array([1,2,3,4],ndmin=5)\n",
    "print(\"The shape of array is\",arr.shape)\n"
   ]
  },
  {
   "cell_type": "markdown",
   "id": "95db40eb-986b-4496-b508-3e3d222ec835",
   "metadata": {},
   "source": [
    "**RESHAPING ARRAY**\n",
    "* Changing shape of the array\n"
   ]
  },
  {
   "cell_type": "code",
   "execution_count": 26,
   "id": "4b8ccb8f-df15-412f-baa6-ab25705d80f2",
   "metadata": {},
   "outputs": [
    {
     "name": "stdout",
     "output_type": "stream",
     "text": [
      "[[ 1  2  3]\n",
      " [ 4  5  6]\n",
      " [ 7  8  9]\n",
      " [10 11 12]]\n"
     ]
    }
   ],
   "source": [
    "##1d to 2d\n",
    "arr=np.array([1,2,3,4,5,6,7,8,9,10,11,12])\n",
    "arr1=arr.reshape(4,3)\n",
    "print(arr1)"
   ]
  },
  {
   "cell_type": "code",
   "execution_count": 27,
   "id": "11b2c059-9522-4b6d-a91f-ee25109da5a2",
   "metadata": {},
   "outputs": [
    {
     "name": "stdout",
     "output_type": "stream",
     "text": [
      "[[[ 1  2]\n",
      "  [ 3  4]\n",
      "  [ 5  6]]\n",
      "\n",
      " [[ 7  8]\n",
      "  [ 9 10]\n",
      "  [11 12]]]\n"
     ]
    }
   ],
   "source": [
    "## 1d to 3d \n",
    "arr=np.array([1,2,3,4,5,6,7,8,9,10,11,12])\n",
    "arr1=arr.reshape(2,3,2)\n",
    "print(arr1)"
   ]
  },
  {
   "cell_type": "markdown",
   "id": "c101e863-7ff8-4f1f-8bf5-ed701741701b",
   "metadata": {},
   "source": [
    "We can reshape only in those dimension whose multiplication is equal to the shape of array\n"
   ]
  },
  {
   "cell_type": "code",
   "execution_count": 28,
   "id": "bf30d06d-10c3-46bc-b0ee-31cd3d029a3e",
   "metadata": {},
   "outputs": [
    {
     "name": "stdout",
     "output_type": "stream",
     "text": [
      "[ 1  2  3  4  5  6  7  8  9 10 11 12]\n"
     ]
    }
   ],
   "source": [
    "arr=np.array([1,2,3,4,5,6,7,8,9,10,11,12])\n",
    "arr1=arr.reshape(2,3,2)\n",
    "print(arr1.base)"
   ]
  },
  {
   "cell_type": "markdown",
   "id": "2851926c-49e0-4edb-889b-80146f68d630",
   "metadata": {},
   "source": [
    "**UNKNOWN DIMENSION**\n",
    "* we can specify -1 as one dimension in reshape method\n",
    "* -1 can be passed not for more than 1 dimension\n"
   ]
  },
  {
   "cell_type": "code",
   "execution_count": 29,
   "id": "3b60105c-31b1-4e48-911f-c2b74834056d",
   "metadata": {},
   "outputs": [
    {
     "name": "stdout",
     "output_type": "stream",
     "text": [
      "[[ 1  2  3  4  5  6]\n",
      " [ 7  8  9 10 11 12]]\n"
     ]
    }
   ],
   "source": [
    "arr=np.array([1,2,3,4,5,6,7,8,9,10,11,12])\n",
    "arr1=arr.reshape(2,-1)\n",
    "print(arr1)\n"
   ]
  },
  {
   "cell_type": "markdown",
   "id": "d012e757-4f9a-4281-9d2a-4a63e1c34569",
   "metadata": {},
   "source": [
    "**FLATTENING THE ARRAYS**\n",
    "\n",
    "* Converting multi dimensional array into 1d array\n",
    "* reshape(-1) is used "
   ]
  },
  {
   "cell_type": "code",
   "execution_count": 30,
   "id": "67178311-e88c-4bb9-b601-2437b51fb868",
   "metadata": {},
   "outputs": [
    {
     "name": "stdout",
     "output_type": "stream",
     "text": [
      "[1 2 3 4]\n"
     ]
    }
   ],
   "source": [
    "arr=np.array([[1,2],[3,4]])\n",
    "arr1=arr.reshape(-1)\n",
    "print(arr1)"
   ]
  },
  {
   "cell_type": "code",
   "execution_count": 31,
   "id": "a1b06b5f-10c2-4bd7-8e30-377bcdebd89b",
   "metadata": {},
   "outputs": [
    {
     "name": "stdout",
     "output_type": "stream",
     "text": [
      "[1 2 3 4 5 6]\n"
     ]
    }
   ],
   "source": [
    "arr=np.array([[[1,2],[3,4],[5,6]]])\n",
    "arr1=arr.reshape(-1)\n",
    "print(arr1)"
   ]
  },
  {
   "cell_type": "markdown",
   "id": "3e3cb112-4e56-4c9b-874b-6b7e07a95267",
   "metadata": {},
   "source": [
    "**ITERATING ARRAYS**\n",
    "\n",
    "* going through elements one by one\n"
   ]
  },
  {
   "cell_type": "code",
   "execution_count": 32,
   "id": "8106cbe9-fbb1-4905-a69f-35e5d3afa198",
   "metadata": {},
   "outputs": [
    {
     "name": "stdout",
     "output_type": "stream",
     "text": [
      "1\n",
      "2\n",
      "3\n",
      "4\n",
      "5\n",
      "6\n",
      "7\n",
      "8\n"
     ]
    }
   ],
   "source": [
    "##1d array\n",
    "arr=np.array([1,2,3,4,5,6,7,8])\n",
    "for x in arr:\n",
    "    print(x)"
   ]
  },
  {
   "cell_type": "code",
   "execution_count": 33,
   "id": "8795e2fe-9585-4cc3-8ffd-ae51e2d42c58",
   "metadata": {},
   "outputs": [
    {
     "name": "stdout",
     "output_type": "stream",
     "text": [
      "[1 2 3]\n",
      "[4 5 6]\n"
     ]
    }
   ],
   "source": [
    "## 2d array\n",
    "arr=np.array([[1,2,3],[4,5,6]])\n",
    "for x in arr:\n",
    "    print(x)"
   ]
  },
  {
   "cell_type": "code",
   "execution_count": 34,
   "id": "88e08c0e-63b6-46f5-9e8f-974d4ebdbddd",
   "metadata": {},
   "outputs": [
    {
     "name": "stdout",
     "output_type": "stream",
     "text": [
      "[[1 2]\n",
      " [3 4]\n",
      " [5 6]]\n"
     ]
    }
   ],
   "source": [
    "##3d array\n",
    "arr=np.array([[[1,2],[3,4],[5,6]]])\n",
    "for x in arr:\n",
    "    print(x)"
   ]
  },
  {
   "cell_type": "code",
   "execution_count": 35,
   "id": "4a8fe580-7e3e-47ae-b794-087a97478c6e",
   "metadata": {},
   "outputs": [
    {
     "name": "stdout",
     "output_type": "stream",
     "text": [
      "1\n",
      "2\n",
      "3\n",
      "4\n",
      "5\n",
      "6\n",
      "7\n",
      "8\n",
      "9\n",
      "10\n",
      "11\n",
      "12\n"
     ]
    }
   ],
   "source": [
    "arr=np.array([[[1,2,3],[4,5,6],[7,8,9],[10,11,12]]])\n",
    "for x in arr:\n",
    "    for y in x:\n",
    "        for z in y:\n",
    "            print(z)"
   ]
  },
  {
   "cell_type": "markdown",
   "id": "cc772397-a417-40bf-b270-3c0067a6a71f",
   "metadata": {},
   "source": [
    "**ITERATING ARRAYS USING nditer()**"
   ]
  },
  {
   "cell_type": "code",
   "execution_count": 36,
   "id": "160e57e2-ce74-4cc6-a370-c60d5f9d0d1b",
   "metadata": {},
   "outputs": [
    {
     "name": "stdout",
     "output_type": "stream",
     "text": [
      "1\n",
      "2\n",
      "3\n",
      "4\n",
      "5\n",
      "6\n"
     ]
    }
   ],
   "source": [
    "arr=np.array([[[1,2],[3,4],[5,6]]])\n",
    "for x in np.nditer(arr):\n",
    "   print(x)"
   ]
  },
  {
   "cell_type": "markdown",
   "id": "7d01dc0f-50b6-4935-b48d-738e06291944",
   "metadata": {},
   "source": [
    "**ITERATING ARRAY WITH DIFFRENT DATA TYPES**\n",
    "\n",
    "* op_dtypes argument is used and pass the expected datatype to change the datatype of elements while iterating\n",
    "* Numpy does not change the data type of element in place  so it needs some another place to perform this action , this extra space is called **buffer** .In order to enable it in nditer(),we pass **flags=[\"buffered\"]**"
   ]
  },
  {
   "cell_type": "code",
   "execution_count": 37,
   "id": "25fba835-76ab-427c-bc79-ad6b26e739de",
   "metadata": {},
   "outputs": [
    {
     "name": "stdout",
     "output_type": "stream",
     "text": [
      "b'1'\n",
      "b'2'\n",
      "b'3'\n",
      "b'4'\n",
      "b'5'\n"
     ]
    }
   ],
   "source": [
    "## iterate through array as string\n",
    "arr=np.array([1,2,3,4,5])\n",
    "for x in np.nditer(arr,flags=[\"buffered\"],op_dtypes=\"S\"):\n",
    "      print(x)"
   ]
  },
  {
   "cell_type": "markdown",
   "id": "98e0838c-0ebb-463e-878c-ed37a089330c",
   "metadata": {},
   "source": [
    "**ITERATING ARRAY WITH DIFFRENT STEP SIZE**\n"
   ]
  },
  {
   "cell_type": "code",
   "execution_count": 38,
   "id": "958cf9b4-a435-4f8b-9a4a-f0eda7605b9c",
   "metadata": {},
   "outputs": [
    {
     "name": "stdout",
     "output_type": "stream",
     "text": [
      "1\n",
      "3\n",
      "5\n",
      "7\n"
     ]
    }
   ],
   "source": [
    "arr=np.array([[1,2,3,4],[5,6,7,8]])\n",
    "for x in np.nditer(arr[:,::2]):\n",
    "    print(x)"
   ]
  },
  {
   "cell_type": "markdown",
   "id": "f00eac4b-97fb-4ef6-b091-4408e136146e",
   "metadata": {},
   "source": [
    "**ENUMERATED ACTION USING ndenumerate()**\n",
    "* Enumeration means mentioning sequence number of something one by one\n",
    "* ndenumerate() method can be used in cases where we want  corresponding index of element while iterating"
   ]
  },
  {
   "cell_type": "code",
   "execution_count": 75,
   "id": "775b115d-caaf-4424-adac-b9ed88973701",
   "metadata": {},
   "outputs": [
    {
     "name": "stdout",
     "output_type": "stream",
     "text": [
      "(1, 3) ((0,), 1)\n",
      "(1, 3) ((1,), 2)\n",
      "(1, 3) ((2,), 3)\n",
      "(1, 3) ((3,), 4)\n"
     ]
    }
   ],
   "source": [
    "arr=np.array([1,2,3,4])\n",
    "for x in np.ndenumerate(arr):\n",
    "    print(idx,x)"
   ]
  },
  {
   "cell_type": "code",
   "execution_count": 40,
   "id": "ed9c0df4-596b-4600-b0de-aa324c401bfc",
   "metadata": {},
   "outputs": [
    {
     "name": "stdout",
     "output_type": "stream",
     "text": [
      "(0, 0) 1\n",
      "(0, 1) 2\n",
      "(0, 2) 3\n",
      "(0, 3) 4\n",
      "(1, 0) 5\n",
      "(1, 1) 6\n",
      "(1, 2) 7\n",
      "(1, 3) 8\n"
     ]
    }
   ],
   "source": [
    "arr=np.array([[1,2,3,4],[5,6,7,8]])\n",
    "for idx,x in np.ndenumerate(arr):\n",
    "    print(idx,x)"
   ]
  },
  {
   "cell_type": "markdown",
   "id": "991c2e4e-1c34-44fd-9d56-806875d50e93",
   "metadata": {},
   "source": [
    "**JOINING NUMPY ARRAYS**\n",
    "* Putting contents of two or more arrays in single array\n",
    "* In Numpy ,arrays are joined by axes\n",
    "* **concatenate()** function is used\n",
    "* **stack()** function is used"
   ]
  },
  {
   "cell_type": "code",
   "execution_count": 41,
   "id": "1f01f241-db5d-4339-9d64-f35289d18e8d",
   "metadata": {},
   "outputs": [
    {
     "name": "stdout",
     "output_type": "stream",
     "text": [
      "[1 2 3 4 5 6]\n"
     ]
    }
   ],
   "source": [
    "##1d array\n",
    "arr1=np.array([1,2,3])\n",
    "arr2=np.array([4,5,6])\n",
    "arr=np.concatenate((arr1,arr2))\n",
    "print(arr)"
   ]
  },
  {
   "cell_type": "code",
   "execution_count": 42,
   "id": "b37ddbd6-1732-4b59-9b65-4dabdea41bfd",
   "metadata": {},
   "outputs": [
    {
     "name": "stdout",
     "output_type": "stream",
     "text": [
      "[[1 2]\n",
      " [3 4]\n",
      " [5 6]\n",
      " [7 8]]\n"
     ]
    }
   ],
   "source": [
    "## 2d array\n",
    "arr1=np.array([[1,2],[3,4]])\n",
    "arr2=np.array([[5,6],[7,8]])\n",
    "arr=np.concatenate((arr1,arr2))\n",
    "print(arr)"
   ]
  },
  {
   "cell_type": "markdown",
   "id": "49800e89-370a-47a3-844a-9049ef40b3d9",
   "metadata": {},
   "source": [
    "**JOINING  BY stack() FUNCTION**\n",
    "* stacking is done along new axis"
   ]
  },
  {
   "cell_type": "code",
   "execution_count": 43,
   "id": "73e89291-b030-4f89-ac9b-65038fc7b82a",
   "metadata": {},
   "outputs": [
    {
     "name": "stdout",
     "output_type": "stream",
     "text": [
      "[[1 4]\n",
      " [2 5]\n",
      " [3 6]]\n"
     ]
    }
   ],
   "source": [
    "arr1=np.array([1,2,3])\n",
    "arr2=np.array([4,5,6])\n",
    "arr=np.stack((arr1,arr2),axis=1)\n",
    "print(arr)"
   ]
  },
  {
   "cell_type": "markdown",
   "id": "a82ca65a-b155-48b6-9335-6c4c38b0d519",
   "metadata": {},
   "source": [
    "**BY hstack()**\n",
    "* stack along rows"
   ]
  },
  {
   "cell_type": "code",
   "execution_count": 44,
   "id": "558c67be-365b-481e-896c-7fba2cf22b11",
   "metadata": {},
   "outputs": [
    {
     "name": "stdout",
     "output_type": "stream",
     "text": [
      "[1 2 3 4 5 6]\n"
     ]
    }
   ],
   "source": [
    "arr1=np.array([1,2,3])\n",
    "arr2=np.array([4,5,6])\n",
    "arr=np.hstack((arr1,arr2))\n",
    "print(arr)"
   ]
  },
  {
   "cell_type": "markdown",
   "id": "4aee7507-8720-45a8-827a-08ae4a0b52df",
   "metadata": {},
   "source": [
    "**BY vstack()**\n",
    "\n",
    "* stack along columns"
   ]
  },
  {
   "cell_type": "code",
   "execution_count": 45,
   "id": "edc86b12-ecb1-474b-80a6-b4089f1c5c58",
   "metadata": {},
   "outputs": [
    {
     "name": "stdout",
     "output_type": "stream",
     "text": [
      "[[1 2 3]\n",
      " [4 5 6]]\n"
     ]
    }
   ],
   "source": [
    "arr1=np.array([1,2,3])\n",
    "arr2=np.array([4,5,6])\n",
    "arr=np.vstack((arr1,arr2))\n",
    "print(arr)"
   ]
  },
  {
   "cell_type": "markdown",
   "id": "2c98fe22-e746-4172-9e22-d937d5cd6d55",
   "metadata": {},
   "source": [
    "**BY dstack()**\n",
    "\n",
    "* stack along depth(height)"
   ]
  },
  {
   "cell_type": "code",
   "execution_count": 46,
   "id": "aef65122-c6a3-4b60-b47a-16812185d43e",
   "metadata": {},
   "outputs": [
    {
     "name": "stdout",
     "output_type": "stream",
     "text": [
      "[[[1 4]\n",
      "  [2 5]\n",
      "  [3 6]]]\n"
     ]
    }
   ],
   "source": [
    "arr1=np.array([1,2,3])\n",
    "arr2=np.array([4,5,6])\n",
    "arr=np.dstack((arr1,arr2))\n",
    "print(arr)"
   ]
  },
  {
   "cell_type": "markdown",
   "id": "316757d0-9723-47da-b941-c116ea41e493",
   "metadata": {},
   "source": [
    "**SPLITTING NUMPY ARRAYS**\n",
    "* Spliting is reverse operation of joining\n",
    "* breaks one array into multiple"
   ]
  },
  {
   "cell_type": "markdown",
   "id": "ed164084-eb07-4a98-9a2a-1b67a6267141",
   "metadata": {},
   "source": [
    "**array_split()**\n",
    "* return value is an array containing each split as an array\n",
    "* It automatically adjusts the elements when elements are less in source array\n"
   ]
  },
  {
   "cell_type": "code",
   "execution_count": 47,
   "id": "0a884891-1038-4e37-8901-ec4e517412e4",
   "metadata": {},
   "outputs": [
    {
     "name": "stdout",
     "output_type": "stream",
     "text": [
      "[array([1, 2, 3]), array([4, 5, 6]), array([7, 8, 9])]\n"
     ]
    }
   ],
   "source": [
    "arr=np.array([1,2,3,4,5,6,7,8,9])\n",
    "arr1=np.array_split(arr,3)\n",
    "print(arr1)"
   ]
  },
  {
   "cell_type": "code",
   "execution_count": 48,
   "id": "501228e9-b6c7-4b76-b1e2-68bb08c88214",
   "metadata": {},
   "outputs": [
    {
     "name": "stdout",
     "output_type": "stream",
     "text": [
      "[array([[1, 2],\n",
      "       [3, 4]]), array([[5, 6],\n",
      "       [7, 8]]), array([[ 9, 10],\n",
      "       [11, 12]])]\n"
     ]
    }
   ],
   "source": [
    "arr=np.array([[1,2],[3,4],[5,6],[7,8],[9,10],[11,12]])\n",
    "arr1=np.array_split(arr,3)\n",
    "print(arr1)"
   ]
  },
  {
   "cell_type": "markdown",
   "id": "09e48890-b029-4978-a28f-1b080a689218",
   "metadata": {},
   "source": [
    "**hsplit()**"
   ]
  },
  {
   "cell_type": "code",
   "execution_count": 49,
   "id": "40f2a085-d10c-4f19-8929-5cc1fccb3df4",
   "metadata": {},
   "outputs": [
    {
     "name": "stdout",
     "output_type": "stream",
     "text": [
      "[array([[ 1],\n",
      "       [ 4],\n",
      "       [ 7],\n",
      "       [10],\n",
      "       [13],\n",
      "       [16]]), array([[ 2],\n",
      "       [ 5],\n",
      "       [ 8],\n",
      "       [11],\n",
      "       [14],\n",
      "       [17]]), array([[ 3],\n",
      "       [ 6],\n",
      "       [ 9],\n",
      "       [12],\n",
      "       [15],\n",
      "       [18]])]\n"
     ]
    }
   ],
   "source": [
    "arr=np.array([[1,2,3],[4,5,6],[7,8,9],[10,11,12],[13,14,15],[16,17,18]])\n",
    "arr1=np.hsplit(arr,3)\n",
    "print(arr1)"
   ]
  },
  {
   "cell_type": "markdown",
   "id": "e5c34379-58bc-43ed-ad64-c976f739bb26",
   "metadata": {},
   "source": [
    "**vsplit()** and **dsplit()** can be used similarly"
   ]
  },
  {
   "cell_type": "markdown",
   "id": "e3f56260-39f0-494a-ac54-49d424cc0ac3",
   "metadata": {},
   "source": [
    "**SEARCHING ARRAYS**"
   ]
  },
  {
   "cell_type": "code",
   "execution_count": 50,
   "id": "d953edbc-0af1-4fa7-9361-19121e8efe75",
   "metadata": {},
   "outputs": [
    {
     "name": "stdout",
     "output_type": "stream",
     "text": [
      "(array([4], dtype=int64),)\n"
     ]
    }
   ],
   "source": [
    "arr=np.array([1,2,3,4,5,6,7,8])\n",
    "x=np.where(arr==5)\n",
    "print(x)\n",
    "## returns the index of element"
   ]
  },
  {
   "cell_type": "code",
   "execution_count": 51,
   "id": "7cc9610a-311f-46f8-9535-82e4a8ad282d",
   "metadata": {},
   "outputs": [
    {
     "name": "stdout",
     "output_type": "stream",
     "text": [
      "(array([1, 3, 5, 7], dtype=int64),)\n"
     ]
    }
   ],
   "source": [
    "## searching for even values\n",
    "arr=np.array([1,2,3,4,5,6,7,8])\n",
    "x=np.where(arr%2==0)\n",
    "print(x)"
   ]
  },
  {
   "cell_type": "code",
   "execution_count": 52,
   "id": "e64b9c93-57b0-444e-9fd2-d20f2ec5519f",
   "metadata": {},
   "outputs": [
    {
     "name": "stdout",
     "output_type": "stream",
     "text": [
      "(array([0, 2, 4, 6], dtype=int64),)\n"
     ]
    }
   ],
   "source": [
    "## searching for odd values\n",
    "arr=np.array([1,2,3,4,5,6,7,8])\n",
    "x=np.where(arr%2!=0)\n",
    "print(x)"
   ]
  },
  {
   "cell_type": "markdown",
   "id": "c1a3bc41-4323-4667-b3d5-fd975598af68",
   "metadata": {},
   "source": [
    "**searchsorted() METHOD** "
   ]
  },
  {
   "cell_type": "code",
   "execution_count": 53,
   "id": "34809d97-5f7e-4f5f-9afc-43012d8125e3",
   "metadata": {},
   "outputs": [
    {
     "name": "stdout",
     "output_type": "stream",
     "text": [
      "3\n"
     ]
    }
   ],
   "source": [
    "arr=np.array([1,2,3,4,5,6])\n",
    "x=np.searchsorted(arr,4)\n",
    "print(x)"
   ]
  },
  {
   "cell_type": "code",
   "execution_count": 54,
   "id": "736df7f5-6e47-424c-863c-2af77a8dc592",
   "metadata": {},
   "outputs": [
    {
     "name": "stdout",
     "output_type": "stream",
     "text": [
      "2\n"
     ]
    }
   ],
   "source": [
    "## search from right side\n",
    "arr=np.array([5,6,7,8])\n",
    "x=np.searchsorted(arr,6,side=\"right\")\n",
    "print(x)"
   ]
  },
  {
   "cell_type": "code",
   "execution_count": 55,
   "id": "11294335-2a92-46d1-8add-d02c11cc5827",
   "metadata": {},
   "outputs": [
    {
     "name": "stdout",
     "output_type": "stream",
     "text": [
      "[1 3 5]\n"
     ]
    }
   ],
   "source": [
    "## Multiple values\n",
    "arr=np.array([1,2,3,4,5,6,7,8])\n",
    "x=np.searchsorted(arr,[2,4,6])\n",
    "print(x)"
   ]
  },
  {
   "cell_type": "markdown",
   "id": "5e1caace-32fe-4e4a-b340-cef77b4966a2",
   "metadata": {},
   "source": [
    "**SORTING ARRAYS**\n",
    "* Putting elements in an ordered sequence\n",
    "* **sort()** is used\n",
    "* returns a copy of the array ,leaving the original array unchanged"
   ]
  },
  {
   "cell_type": "code",
   "execution_count": 56,
   "id": "00b6c998-8465-4dc0-b2ba-8afc186f8ff8",
   "metadata": {},
   "outputs": [
    {
     "name": "stdout",
     "output_type": "stream",
     "text": [
      "The original array is  [ 15 687  42  10 356 258]\n",
      "The sorted array is  [ 10  15  42 258 356 687]\n"
     ]
    }
   ],
   "source": [
    "arr=np.array([15,687,42,10,356,258])\n",
    "print(\"The original array is \",arr)\n",
    "print(\"The sorted array is \",np.sort(arr))"
   ]
  },
  {
   "cell_type": "code",
   "execution_count": 57,
   "id": "b7bb1935-247e-47c2-b770-259ffc3ec9c7",
   "metadata": {},
   "outputs": [
    {
     "name": "stdout",
     "output_type": "stream",
     "text": [
      "['apple' 'banana' 'cherry']\n"
     ]
    }
   ],
   "source": [
    "## alphabetically sorting\n",
    "arr=np.array([\"cherry\",\"apple\",\"banana\",])\n",
    "print(np.sort(arr))"
   ]
  },
  {
   "cell_type": "code",
   "execution_count": 58,
   "id": "908028f2-e092-4495-968f-1b00e1b34476",
   "metadata": {},
   "outputs": [
    {
     "name": "stdout",
     "output_type": "stream",
     "text": [
      "[False  True  True]\n"
     ]
    }
   ],
   "source": [
    "## sort boolean array\n",
    "arr=np.array([True,False,True])\n",
    "print(np.sort(arr))"
   ]
  },
  {
   "cell_type": "markdown",
   "id": "4c6d8a30-23f3-43c6-a6ce-372a82e68b7e",
   "metadata": {},
   "source": [
    "**FILTERING ARRAYS**\n",
    "* Get some elements out of the existing array and creating a new array out of them is called filtering"
   ]
  },
  {
   "cell_type": "code",
   "execution_count": 59,
   "id": "56adf392-e461-47ae-a436-05a9fe53bfb1",
   "metadata": {},
   "outputs": [
    {
     "name": "stdout",
     "output_type": "stream",
     "text": [
      "[41 43 44 46 47]\n"
     ]
    }
   ],
   "source": [
    "arr=np.array([41,42,43,44,45,46,47])\n",
    "x=[True,False,True,True,False,True,True]\n",
    "arr1=arr[x]\n",
    "print(arr1)"
   ]
  },
  {
   "cell_type": "markdown",
   "id": "7f07f5b9-5519-4d5e-8726-7786cd324f5b",
   "metadata": {},
   "source": [
    "**CREATING THE FILTERING ARRAY**\n"
   ]
  },
  {
   "cell_type": "code",
   "execution_count": 60,
   "id": "6a561e1f-a281-4adb-a45d-2ec9c83009c9",
   "metadata": {},
   "outputs": [
    {
     "name": "stdout",
     "output_type": "stream",
     "text": [
      "[False, False, False, True, True, True, True]\n",
      "[44 45 46 47]\n"
     ]
    }
   ],
   "source": [
    "arr=np.array([41,42,43,44,45,46,47])\n",
    "## creating empty list\n",
    "filter_arr=[]\n",
    "for i in arr:\n",
    "    if i>43:\n",
    "        filter_arr.append(True)\n",
    "    else:\n",
    "        filter_arr.append(False)\n",
    "arr1=arr[filter_arr]\n",
    "print(filter_arr)\n",
    "print(arr1)"
   ]
  },
  {
   "cell_type": "code",
   "execution_count": 61,
   "id": "d9538a33-5998-412b-9190-52423beeb06a",
   "metadata": {},
   "outputs": [
    {
     "name": "stdout",
     "output_type": "stream",
     "text": [
      "[False, True, False, True, False, True, False]\n",
      "[42 44 46]\n"
     ]
    }
   ],
   "source": [
    "## for even number filtering\n",
    "arr=np.array([41,42,43,44,45,46,47])\n",
    "## creating empty list\n",
    "filter_arr=[]\n",
    "for i in arr:\n",
    "    if i%2==0:\n",
    "        filter_arr.append(True)\n",
    "    else:\n",
    "        filter_arr.append(False)\n",
    "arr1=arr[filter_arr]\n",
    "print(filter_arr)\n",
    "print(arr1)"
   ]
  },
  {
   "cell_type": "markdown",
   "id": "f03daa70-454c-4668-a22e-2f084d53cd4d",
   "metadata": {},
   "source": [
    "**CREATING FILTER DIRECT FROM ARRAY**"
   ]
  },
  {
   "cell_type": "code",
   "execution_count": 62,
   "id": "9b440498-643e-4846-930b-29b5e06a903e",
   "metadata": {},
   "outputs": [
    {
     "name": "stdout",
     "output_type": "stream",
     "text": [
      "[False False False  True  True  True  True]\n",
      "[44 45 46 47]\n"
     ]
    }
   ],
   "source": [
    "arr=np.array([41,42,43,44,45,46,47])\n",
    "filter_arr=arr>43\n",
    "arr1=arr[filter_arr]\n",
    "print(filter_arr)\n",
    "print(arr1)"
   ]
  },
  {
   "cell_type": "markdown",
   "id": "d796f81d-4af2-4f0a-bd27-ec900aa14426",
   "metadata": {},
   "source": [
    "**RANDOM NUMBERS**"
   ]
  },
  {
   "cell_type": "code",
   "execution_count": 66,
   "id": "a1b3aa2c-f8ab-48b2-90e0-13c510777281",
   "metadata": {},
   "outputs": [
    {
     "name": "stdout",
     "output_type": "stream",
     "text": [
      "56\n"
     ]
    }
   ],
   "source": [
    "## generating a random number\n",
    "from numpy import random\n",
    "x=random.randint(100)\n",
    "print(x)"
   ]
  },
  {
   "cell_type": "code",
   "execution_count": 67,
   "id": "b7e70c3d-419f-49b3-9ef9-fe8603070b11",
   "metadata": {},
   "outputs": [
    {
     "name": "stdout",
     "output_type": "stream",
     "text": [
      "0.011890432984270394\n"
     ]
    }
   ],
   "source": [
    "## generate random float\n",
    "x=random.rand()\n",
    "print(x)"
   ]
  },
  {
   "cell_type": "code",
   "execution_count": 68,
   "id": "e11973d8-bf63-4aac-9bf5-8b58263cf6bd",
   "metadata": {},
   "outputs": [
    {
     "name": "stdout",
     "output_type": "stream",
     "text": [
      "[25 57 14 54 74]\n"
     ]
    }
   ],
   "source": [
    "## generating random array\n",
    "x=random.randint(100,size=(5))\n",
    "print(x)"
   ]
  },
  {
   "cell_type": "code",
   "execution_count": 69,
   "id": "c4611a80-039e-452f-9786-b3aaf3fea76b",
   "metadata": {},
   "outputs": [
    {
     "name": "stdout",
     "output_type": "stream",
     "text": [
      "[[63 66  5 58 91 50]\n",
      " [31 44 35 26 11 71]\n",
      " [96 34 55 82 41 57]]\n"
     ]
    }
   ],
   "source": [
    "x=random.randint(100,size=(3,6))\n",
    "print(x)"
   ]
  },
  {
   "cell_type": "code",
   "execution_count": 73,
   "id": "9a757569-c05b-43dc-8220-56550ce5f769",
   "metadata": {},
   "outputs": [
    {
     "name": "stdout",
     "output_type": "stream",
     "text": [
      "[0.877512   0.25392145 0.60652405 0.64977097 0.8826299 ]\n"
     ]
    }
   ],
   "source": [
    "from numpy import random\n",
    "x=random.rand(5)\n",
    "print(x)"
   ]
  },
  {
   "cell_type": "code",
   "execution_count": 74,
   "id": "26d8c54f-848d-4052-befb-04c9d7911f5d",
   "metadata": {},
   "outputs": [
    {
     "name": "stdout",
     "output_type": "stream",
     "text": [
      "[[0.95334456 0.65767003 0.39922549 0.54522056]\n",
      " [0.62160395 0.31289792 0.87268331 0.87954116]\n",
      " [0.38819704 0.87215179 0.42520862 0.07024706]]\n"
     ]
    }
   ],
   "source": [
    "from numpy import random\n",
    "x=random.rand(3,4)\n",
    "print(x)"
   ]
  },
  {
   "cell_type": "markdown",
   "id": "a262e215-cdae-471e-bf81-6342a236b5a0",
   "metadata": {},
   "source": [
    "**GENERATE RANDOM NUMBER FROM ARRAY**\n",
    "* **choice()** method return an array of values\n",
    "* **size()** parameter is used  t o specify the shape of array"
   ]
  },
  {
   "cell_type": "code",
   "execution_count": 77,
   "id": "c3d9afc0-1e57-4578-81e1-3f6ecfea210e",
   "metadata": {},
   "outputs": [
    {
     "name": "stdout",
     "output_type": "stream",
     "text": [
      "5\n"
     ]
    }
   ],
   "source": [
    "x=random.choice([3,5,7,9])\n",
    "print(x)"
   ]
  },
  {
   "cell_type": "code",
   "execution_count": 78,
   "id": "2b877c09-c8f7-46ca-883c-868ec6208bfd",
   "metadata": {},
   "outputs": [
    {
     "name": "stdout",
     "output_type": "stream",
     "text": [
      "[[9 7 3 5 7]\n",
      " [3 7 5 3 3]\n",
      " [5 5 9 3 9]]\n"
     ]
    }
   ],
   "source": [
    "x=random.choice([3,5,7,9],size=(3,5))\n",
    "print(x)"
   ]
  }
 ],
 "metadata": {
  "kernelspec": {
   "display_name": "Python 3 (ipykernel)",
   "language": "python",
   "name": "python3"
  },
  "language_info": {
   "codemirror_mode": {
    "name": "ipython",
    "version": 3
   },
   "file_extension": ".py",
   "mimetype": "text/x-python",
   "name": "python",
   "nbconvert_exporter": "python",
   "pygments_lexer": "ipython3",
   "version": "3.11.4"
  }
 },
 "nbformat": 4,
 "nbformat_minor": 5
}
